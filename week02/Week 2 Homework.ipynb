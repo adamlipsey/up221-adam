{
 "cells": [
  {
   "cell_type": "code",
   "execution_count": 84,
   "id": "405835b2-7175-4d12-8d12-8a6032eccf58",
   "metadata": {},
   "outputs": [],
   "source": [
    "import pandas as pd\n",
    "import geopandas as gpd\n",
    "import folium"
   ]
  },
  {
   "cell_type": "code",
   "execution_count": 85,
   "id": "bab9eed7-832c-4498-99ea-70967b5a7413",
   "metadata": {},
   "outputs": [],
   "source": [
    "cities = gpd.read_file('data/Shrinking_Cities.shp')"
   ]
  },
  {
   "cell_type": "code",
   "execution_count": 86,
   "id": "d6f64fe2-0889-4718-a1b4-590807a1b004",
   "metadata": {},
   "outputs": [],
   "source": [
    "# .shape will return the dimensions of the dataframe, as well as the number of elements in each dimenstion."
   ]
  },
  {
   "cell_type": "code",
   "execution_count": 87,
   "id": "77a43e93-8e2c-4e3a-b74c-be4ce6d8ab04",
   "metadata": {},
   "outputs": [
    {
     "data": {
      "text/plain": [
       "(8, 3)"
      ]
     },
     "execution_count": 87,
     "metadata": {},
     "output_type": "execute_result"
    }
   ],
   "source": [
    "cities.shape"
   ]
  },
  {
   "cell_type": "code",
   "execution_count": 88,
   "id": "d1abee67-458a-4a3e-aa5d-6724503332e7",
   "metadata": {},
   "outputs": [],
   "source": [
    "# The dataframe has 8 rows, 3 columns."
   ]
  },
  {
   "cell_type": "code",
   "execution_count": 89,
   "id": "fd722330-7f90-4e48-af10-82fa28d780c5",
   "metadata": {},
   "outputs": [],
   "source": [
    "# .info will return various pieces of information about the table."
   ]
  },
  {
   "cell_type": "code",
   "execution_count": 90,
   "id": "8840cdaf-81e8-4083-88bb-4228254ebd6a",
   "metadata": {},
   "outputs": [
    {
     "data": {
      "text/plain": [
       "<bound method DataFrame.info of    id       Cities                         geometry\n",
       "0   1       Altena   POINT (854023.524 6674254.537)\n",
       "1   2      Melgaco  POINT (-919414.317 5177921.190)\n",
       "2   3      Manresa   POINT (203598.734 5120434.652)\n",
       "3   4       Idrija  POINT (1561490.861 5780715.211)\n",
       "4   5      Aluksne  POINT (3011217.176 7846561.496)\n",
       "5   6    Nyirbator  POINT (2463620.342 6080186.087)\n",
       "6   7      Isernia  POINT (1584993.645 5101259.282)\n",
       "7   8  Igoumenitsa  POINT (2255832.260 4794186.557)>"
      ]
     },
     "execution_count": 90,
     "metadata": {},
     "output_type": "execute_result"
    }
   ],
   "source": [
    "cities.info"
   ]
  },
  {
   "cell_type": "code",
   "execution_count": 91,
   "id": "5c39dc3d-9c49-4d1b-a2c2-e07817a8041a",
   "metadata": {},
   "outputs": [],
   "source": [
    "# Information about the dataframe."
   ]
  },
  {
   "cell_type": "code",
   "execution_count": 92,
   "id": "d5c9c0bb-08e2-4f8f-8c6f-ea30dfb1d472",
   "metadata": {},
   "outputs": [],
   "source": [
    "# Shows the first 5 rows of the dataframe."
   ]
  },
  {
   "cell_type": "code",
   "execution_count": 93,
   "id": "40a6e55f-5661-4536-83e3-bcdb320af237",
   "metadata": {},
   "outputs": [
    {
     "data": {
      "text/html": [
       "<div>\n",
       "<style scoped>\n",
       "    .dataframe tbody tr th:only-of-type {\n",
       "        vertical-align: middle;\n",
       "    }\n",
       "\n",
       "    .dataframe tbody tr th {\n",
       "        vertical-align: top;\n",
       "    }\n",
       "\n",
       "    .dataframe thead th {\n",
       "        text-align: right;\n",
       "    }\n",
       "</style>\n",
       "<table border=\"1\" class=\"dataframe\">\n",
       "  <thead>\n",
       "    <tr style=\"text-align: right;\">\n",
       "      <th></th>\n",
       "      <th>id</th>\n",
       "      <th>Cities</th>\n",
       "      <th>geometry</th>\n",
       "    </tr>\n",
       "  </thead>\n",
       "  <tbody>\n",
       "    <tr>\n",
       "      <th>0</th>\n",
       "      <td>1</td>\n",
       "      <td>Altena</td>\n",
       "      <td>POINT (854023.524 6674254.537)</td>\n",
       "    </tr>\n",
       "    <tr>\n",
       "      <th>1</th>\n",
       "      <td>2</td>\n",
       "      <td>Melgaco</td>\n",
       "      <td>POINT (-919414.317 5177921.190)</td>\n",
       "    </tr>\n",
       "    <tr>\n",
       "      <th>2</th>\n",
       "      <td>3</td>\n",
       "      <td>Manresa</td>\n",
       "      <td>POINT (203598.734 5120434.652)</td>\n",
       "    </tr>\n",
       "    <tr>\n",
       "      <th>3</th>\n",
       "      <td>4</td>\n",
       "      <td>Idrija</td>\n",
       "      <td>POINT (1561490.861 5780715.211)</td>\n",
       "    </tr>\n",
       "    <tr>\n",
       "      <th>4</th>\n",
       "      <td>5</td>\n",
       "      <td>Aluksne</td>\n",
       "      <td>POINT (3011217.176 7846561.496)</td>\n",
       "    </tr>\n",
       "  </tbody>\n",
       "</table>\n",
       "</div>"
      ],
      "text/plain": [
       "   id   Cities                         geometry\n",
       "0   1   Altena   POINT (854023.524 6674254.537)\n",
       "1   2  Melgaco  POINT (-919414.317 5177921.190)\n",
       "2   3  Manresa   POINT (203598.734 5120434.652)\n",
       "3   4   Idrija  POINT (1561490.861 5780715.211)\n",
       "4   5  Aluksne  POINT (3011217.176 7846561.496)"
      ]
     },
     "execution_count": 93,
     "metadata": {},
     "output_type": "execute_result"
    }
   ],
   "source": [
    "cities.head()"
   ]
  },
  {
   "cell_type": "code",
   "execution_count": 94,
   "id": "41d2fdfa-d982-4d14-9faf-0e6d0afd27df",
   "metadata": {},
   "outputs": [],
   "source": [
    "# Plots the dataframe based on geography data within."
   ]
  },
  {
   "cell_type": "code",
   "execution_count": 95,
   "id": "96f6db4b-9e19-4044-b689-b50dd1fb4d8f",
   "metadata": {},
   "outputs": [
    {
     "data": {
      "text/plain": [
       "<AxesSubplot: >"
      ]
     },
     "execution_count": 95,
     "metadata": {},
     "output_type": "execute_result"
    },
    {
     "data": {
      "image/png": "[encoded data removed]",
      "text/plain": [
       "<Figure size 640x480 with 1 Axes>"
      ]
     },
     "metadata": {},
     "output_type": "display_data"
    }
   ],
   "source": [
    "cities.plot()"
   ]
  },
  {
   "cell_type": "code",
   "execution_count": 96,
   "id": "252b1265-831f-411a-87f7-e7ac1c35b537",
   "metadata": {},
   "outputs": [],
   "source": [
    "# Plots the cities on a spatial plane."
   ]
  },
  {
   "cell_type": "code",
   "execution_count": 97,
   "id": "eb79c19c-51fc-4b1c-932e-ba7880910ed3",
   "metadata": {},
   "outputs": [
    {
     "data": {
      "text/plain": [
       "<AxesSubplot: >"
      ]
     },
     "execution_count": 97,
     "metadata": {},
     "output_type": "execute_result"
    },
    {
     "data": {
      "image/png": "[encoded data removed]",
      "text/plain": [
       "<Figure size 1500x1500 with 1 Axes>"
      ]
     },
     "metadata": {},
     "output_type": "display_data"
    }
   ],
   "source": [
    "ax = cities.plot(edgecolor = 'black', linewidth = 0.1, figsize = (15,15))\n",
    "cities.plot(ax = ax, column = 'Cities', legend = True)"
   ]
  },
  {
   "cell_type": "code",
   "execution_count": 98,
   "id": "bf178a51-ea6e-42f3-8e53-7e300ab7fa89",
   "metadata": {},
   "outputs": [
    {
     "data": {
      "text/html": [
       "<div style=\"width:100%;\"><div style=\"position:relative;width:100%;height:0;padding-bottom:60%;\"><span style=\"color:#565656\">Make this Notebook Trusted to load map: File -> Trust Notebook</span><iframe srcdoc=\"&lt;!DOCTYPE html&gt;\n",
       "&lt;html&gt;\n",
       "&lt;head&gt;\n",
       "    \n",
       "    &lt;meta http-equiv=&quot;content-type&quot; content=&quot;text/html; charset=UTF-8&quot; /&gt;\n",
       "    \n",
       "        &lt;script&gt;\n",
       "            L_NO_TOUCH = false;\n",
       "            L_DISABLE_3D = false;\n",
       "        &lt;/script&gt;\n",
       "    \n",
       "    &lt;style&gt;html, body {width: 100%;height: 100%;margin: 0;padding: 0;}&lt;/style&gt;\n",
       "    &lt;style&gt;#map {position:absolute;top:0;bottom:0;right:0;left:0;}&lt;/style&gt;\n",
       "    &lt;script src=&quot;https://cdn.jsdelivr.net/npm/leaflet@1.9.3/dist/leaflet.js&quot;&gt;&lt;/script&gt;\n",
       "    &lt;script src=&quot;https://code.jquery.com/jquery-1.12.4.min.js&quot;&gt;&lt;/script&gt;\n",
       "    &lt;script src=&quot;https://cdn.jsdelivr.net/npm/bootstrap@5.2.2/dist/js/bootstrap.bundle.min.js&quot;&gt;&lt;/script&gt;\n",
       "    &lt;script src=&quot;https://cdnjs.cloudflare.com/ajax/libs/Leaflet.awesome-markers/2.0.2/leaflet.awesome-markers.js&quot;&gt;&lt;/script&gt;\n",
       "    &lt;link rel=&quot;stylesheet&quot; href=&quot;https://cdn.jsdelivr.net/npm/leaflet@1.9.3/dist/leaflet.css&quot;/&gt;\n",
       "    &lt;link rel=&quot;stylesheet&quot; href=&quot;https://cdn.jsdelivr.net/npm/bootstrap@5.2.2/dist/css/bootstrap.min.css&quot;/&gt;\n",
       "    &lt;link rel=&quot;stylesheet&quot; href=&quot;https://netdna.bootstrapcdn.com/bootstrap/3.0.0/css/bootstrap.min.css&quot;/&gt;\n",
       "    &lt;link rel=&quot;stylesheet&quot; href=&quot;https://cdn.jsdelivr.net/npm/@fortawesome/fontawesome-free@6.2.0/css/all.min.css&quot;/&gt;\n",
       "    &lt;link rel=&quot;stylesheet&quot; href=&quot;https://cdnjs.cloudflare.com/ajax/libs/Leaflet.awesome-markers/2.0.2/leaflet.awesome-markers.css&quot;/&gt;\n",
       "    &lt;link rel=&quot;stylesheet&quot; href=&quot;https://cdn.jsdelivr.net/gh/python-visualization/folium/folium/templates/leaflet.awesome.rotate.min.css&quot;/&gt;\n",
       "    \n",
       "            &lt;meta name=&quot;viewport&quot; content=&quot;width=device-width,\n",
       "                initial-scale=1.0, maximum-scale=1.0, user-scalable=no&quot; /&gt;\n",
       "            &lt;style&gt;\n",
       "                #map_b0b9838114231f0d8aab5d55541de80e {\n",
       "                    position: relative;\n",
       "                    width: 100.0%;\n",
       "                    height: 100.0%;\n",
       "                    left: 0.0%;\n",
       "                    top: 0.0%;\n",
       "                }\n",
       "                .leaflet-container { font-size: 1rem; }\n",
       "            &lt;/style&gt;\n",
       "        \n",
       "&lt;/head&gt;\n",
       "&lt;body&gt;\n",
       "    \n",
       "    \n",
       "            &lt;div class=&quot;folium-map&quot; id=&quot;map_b0b9838114231f0d8aab5d55541de80e&quot; &gt;&lt;/div&gt;\n",
       "        \n",
       "&lt;/body&gt;\n",
       "&lt;script&gt;\n",
       "    \n",
       "    \n",
       "            var map_b0b9838114231f0d8aab5d55541de80e = L.map(\n",
       "                &quot;map_b0b9838114231f0d8aab5d55541de80e&quot;,\n",
       "                {\n",
       "                    center: [0, 0],\n",
       "                    crs: L.CRS.EPSG3857,\n",
       "                    zoom: 1,\n",
       "                    zoomControl: true,\n",
       "                    preferCanvas: false,\n",
       "                }\n",
       "            );\n",
       "\n",
       "            \n",
       "\n",
       "        \n",
       "    \n",
       "            var tile_layer_6981df318d16243aae444ed6409aa7f5 = L.tileLayer(\n",
       "                &quot;https://{s}.tile.openstreetmap.org/{z}/{x}/{y}.png&quot;,\n",
       "                {&quot;attribution&quot;: &quot;Data by \\u0026copy; \\u003ca target=\\&quot;_blank\\&quot; href=\\&quot;http://openstreetmap.org\\&quot;\\u003eOpenStreetMap\\u003c/a\\u003e, under \\u003ca target=\\&quot;_blank\\&quot; href=\\&quot;http://www.openstreetmap.org/copyright\\&quot;\\u003eODbL\\u003c/a\\u003e.&quot;, &quot;detectRetina&quot;: false, &quot;maxNativeZoom&quot;: 18, &quot;maxZoom&quot;: 18, &quot;minZoom&quot;: 0, &quot;noWrap&quot;: false, &quot;opacity&quot;: 1, &quot;subdomains&quot;: &quot;abc&quot;, &quot;tms&quot;: false}\n",
       "            ).addTo(map_b0b9838114231f0d8aab5d55541de80e);\n",
       "        \n",
       "&lt;/script&gt;\n",
       "&lt;/html&gt;\" style=\"position:absolute;width:100%;height:100%;left:0;top:0;border:none !important;\" allowfullscreen webkitallowfullscreen mozallowfullscreen></iframe></div></div>"
      ],
      "text/plain": [
       "<folium.folium.Map at 0x7f9ef1435630>"
      ]
     },
     "execution_count": 98,
     "metadata": {},
     "output_type": "execute_result"
    }
   ],
   "source": [
    "m = folium.Map()\n",
    "m"
   ]
  },
  {
   "cell_type": "code",
   "execution_count": 99,
   "id": "330216c3-a3fd-4159-ab92-8cd01c4d22c2",
   "metadata": {},
   "outputs": [
    {
     "data": {
      "text/plain": [
       "<Derived Projected CRS: EPSG:3857>\n",
       "Name: WGS 84 / Pseudo-Mercator\n",
       "Axis Info [cartesian]:\n",
       "- X[east]: Easting (metre)\n",
       "- Y[north]: Northing (metre)\n",
       "Area of Use:\n",
       "- name: World between 85.06°S and 85.06°N.\n",
       "- bounds: (-180.0, -85.06, 180.0, 85.06)\n",
       "Coordinate Operation:\n",
       "- name: Popular Visualisation Pseudo-Mercator\n",
       "- method: Popular Visualisation Pseudo Mercator\n",
       "Datum: World Geodetic System 1984 ensemble\n",
       "- Ellipsoid: WGS 84\n",
       "- Prime Meridian: Greenwich"
      ]
     },
     "execution_count": 99,
     "metadata": {},
     "output_type": "execute_result"
    }
   ],
   "source": [
    "cities.crs"
   ]
  },
  {
   "cell_type": "code",
   "execution_count": 100,
   "id": "aed4630d-d0c9-43d6-8345-2af363d11d8d",
   "metadata": {},
   "outputs": [
    {
     "name": "stdout",
     "output_type": "stream",
     "text": [
      "EPSG:4326\n"
     ]
    },
    {
     "data": {
      "text/html": [
       "<div>\n",
       "<style scoped>\n",
       "    .dataframe tbody tr th:only-of-type {\n",
       "        vertical-align: middle;\n",
       "    }\n",
       "\n",
       "    .dataframe tbody tr th {\n",
       "        vertical-align: top;\n",
       "    }\n",
       "\n",
       "    .dataframe thead th {\n",
       "        text-align: right;\n",
       "    }\n",
       "</style>\n",
       "<table border=\"1\" class=\"dataframe\">\n",
       "  <thead>\n",
       "    <tr style=\"text-align: right;\">\n",
       "      <th></th>\n",
       "      <th>id</th>\n",
       "      <th>Cities</th>\n",
       "      <th>geometry</th>\n",
       "    </tr>\n",
       "  </thead>\n",
       "  <tbody>\n",
       "    <tr>\n",
       "      <th>0</th>\n",
       "      <td>1</td>\n",
       "      <td>Altena</td>\n",
       "      <td>POINT (7.67182 51.29844)</td>\n",
       "    </tr>\n",
       "    <tr>\n",
       "      <th>1</th>\n",
       "      <td>2</td>\n",
       "      <td>Melgaco</td>\n",
       "      <td>POINT (-8.25924 42.11300)</td>\n",
       "    </tr>\n",
       "    <tr>\n",
       "      <th>2</th>\n",
       "      <td>3</td>\n",
       "      <td>Manresa</td>\n",
       "      <td>POINT (1.82896 41.72876)</td>\n",
       "    </tr>\n",
       "    <tr>\n",
       "      <th>3</th>\n",
       "      <td>4</td>\n",
       "      <td>Idrija</td>\n",
       "      <td>POINT (14.02711 46.00228)</td>\n",
       "    </tr>\n",
       "    <tr>\n",
       "      <th>4</th>\n",
       "      <td>5</td>\n",
       "      <td>Aluksne</td>\n",
       "      <td>POINT (27.05022 57.42053)</td>\n",
       "    </tr>\n",
       "  </tbody>\n",
       "</table>\n",
       "</div>"
      ],
      "text/plain": [
       "   id   Cities                   geometry\n",
       "0   1   Altena   POINT (7.67182 51.29844)\n",
       "1   2  Melgaco  POINT (-8.25924 42.11300)\n",
       "2   3  Manresa   POINT (1.82896 41.72876)\n",
       "3   4   Idrija  POINT (14.02711 46.00228)\n",
       "4   5  Aluksne  POINT (27.05022 57.42053)"
      ]
     },
     "execution_count": 100,
     "metadata": {},
     "output_type": "execute_result"
    }
   ],
   "source": [
    "cities = cities.to_crs(epsg = 4326)\n",
    "print(cities.crs)\n",
    "cities.head()"
   ]
  },
  {
   "cell_type": "code",
   "execution_count": 101,
   "id": "3018ec12-609e-4df9-ae04-c9dce6966c5b",
   "metadata": {},
   "outputs": [
    {
     "name": "stdout",
     "output_type": "stream",
     "text": [
      "Altena POINT (7.671823847810156 51.29843707535939)\n",
      "Melgaco POINT (-8.259239330935474 42.11299890731406)\n",
      "Manresa POINT (1.8289585499973406 41.728756289847404)\n",
      "Idrija POINT (14.027111067364231 46.002283816276766)\n",
      "Aluksne POINT (27.050224134114156 57.42052974378081)\n",
      "Nyirbator POINT (22.13107807897624 47.839447655551595)\n",
      "Isernia POINT (14.23824016791077 41.60007284428459)\n",
      "Igoumenitsa POINT (20.26448597996787 39.50442984022387)\n"
     ]
    }
   ],
   "source": [
    "for index, row in cities.iterrows():\n",
    "    print(row.Cities, row.geometry)"
   ]
  },
  {
   "cell_type": "code",
   "execution_count": 121,
   "id": "8a802324-1a81-46e0-96fb-43e7283f790f",
   "metadata": {},
   "outputs": [
    {
     "ename": "AttributeError",
     "evalue": "'str' object has no attribute 'extract'",
     "output_type": "error",
     "traceback": [
      "\u001b[0;31m---------------------------------------------------------------------------\u001b[0m",
      "\u001b[0;31mAttributeError\u001b[0m                            Traceback (most recent call last)",
      "Cell \u001b[0;32mIn[121], line 1\u001b[0m\n\u001b[0;32m----> 1\u001b[0m cities[\u001b[38;5;124m'\u001b[39m\u001b[38;5;124mLAT\u001b[39m\u001b[38;5;124m'\u001b[39m] \u001b[38;5;241m=\u001b[39m \u001b[43mcities\u001b[49m\u001b[43m[\u001b[49m\u001b[38;5;124;43m'\u001b[39;49m\u001b[38;5;124;43mgeometry\u001b[39;49m\u001b[38;5;124;43m'\u001b[39;49m\u001b[43m]\u001b[49m\u001b[38;5;241;43m.\u001b[39;49m\u001b[43mastype\u001b[49m\u001b[43m(\u001b[49m\u001b[38;5;28;43mstr\u001b[39;49m\u001b[43m)\u001b[49m\u001b[38;5;241;43m.\u001b[39;49m\u001b[43mapply\u001b[49m\u001b[43m(\u001b[49m\u001b[38;5;28;43;01mlambda\u001b[39;49;00m\u001b[43m \u001b[49m\u001b[43mx\u001b[49m\u001b[43m:\u001b[49m\u001b[43m \u001b[49m\u001b[38;5;28;43mfloat\u001b[39;49m\u001b[43m(\u001b[49m\u001b[43mx\u001b[49m\u001b[38;5;241;43m.\u001b[39;49m\u001b[43mextract\u001b[49m\u001b[43m(\u001b[49m\u001b[38;5;124;43m'\u001b[39;49m\u001b[38;5;124;43m(\u001b[39;49m\u001b[38;5;124;43m\\\u001b[39;49m\u001b[38;5;124;43md+\u001b[39;49m\u001b[38;5;124;43m\\\u001b[39;49m\u001b[38;5;124;43m.\u001b[39;49m\u001b[38;5;124;43m\\\u001b[39;49m\u001b[38;5;124;43md+)\u001b[39;49m\u001b[38;5;124;43m'\u001b[39;49m\u001b[43m)\u001b[49m\u001b[43m[\u001b[49m\u001b[38;5;241;43m0\u001b[39;49m\u001b[43m]\u001b[49m\u001b[43m)\u001b[49m\u001b[43m)\u001b[49m\n",
      "File \u001b[0;32m/opt/conda/lib/python3.10/site-packages/pandas/core/series.py:4771\u001b[0m, in \u001b[0;36mSeries.apply\u001b[0;34m(self, func, convert_dtype, args, **kwargs)\u001b[0m\n\u001b[1;32m   4661\u001b[0m \u001b[38;5;28;01mdef\u001b[39;00m \u001b[38;5;21mapply\u001b[39m(\n\u001b[1;32m   4662\u001b[0m     \u001b[38;5;28mself\u001b[39m,\n\u001b[1;32m   4663\u001b[0m     func: AggFuncType,\n\u001b[0;32m   (...)\u001b[0m\n\u001b[1;32m   4666\u001b[0m     \u001b[38;5;241m*\u001b[39m\u001b[38;5;241m*\u001b[39mkwargs,\n\u001b[1;32m   4667\u001b[0m ) \u001b[38;5;241m-\u001b[39m\u001b[38;5;241m>\u001b[39m DataFrame \u001b[38;5;241m|\u001b[39m Series:\n\u001b[1;32m   4668\u001b[0m \u001b[38;5;250m    \u001b[39m\u001b[38;5;124;03m\"\"\"\u001b[39;00m\n\u001b[1;32m   4669\u001b[0m \u001b[38;5;124;03m    Invoke function on values of Series.\u001b[39;00m\n\u001b[1;32m   4670\u001b[0m \n\u001b[0;32m   (...)\u001b[0m\n\u001b[1;32m   4769\u001b[0m \u001b[38;5;124;03m    dtype: float64\u001b[39;00m\n\u001b[1;32m   4770\u001b[0m \u001b[38;5;124;03m    \"\"\"\u001b[39;00m\n\u001b[0;32m-> 4771\u001b[0m     \u001b[38;5;28;01mreturn\u001b[39;00m \u001b[43mSeriesApply\u001b[49m\u001b[43m(\u001b[49m\u001b[38;5;28;43mself\u001b[39;49m\u001b[43m,\u001b[49m\u001b[43m \u001b[49m\u001b[43mfunc\u001b[49m\u001b[43m,\u001b[49m\u001b[43m \u001b[49m\u001b[43mconvert_dtype\u001b[49m\u001b[43m,\u001b[49m\u001b[43m \u001b[49m\u001b[43margs\u001b[49m\u001b[43m,\u001b[49m\u001b[43m \u001b[49m\u001b[43mkwargs\u001b[49m\u001b[43m)\u001b[49m\u001b[38;5;241;43m.\u001b[39;49m\u001b[43mapply\u001b[49m\u001b[43m(\u001b[49m\u001b[43m)\u001b[49m\n",
      "File \u001b[0;32m/opt/conda/lib/python3.10/site-packages/pandas/core/apply.py:1105\u001b[0m, in \u001b[0;36mSeriesApply.apply\u001b[0;34m(self)\u001b[0m\n\u001b[1;32m   1102\u001b[0m     \u001b[38;5;28;01mreturn\u001b[39;00m \u001b[38;5;28mself\u001b[39m\u001b[38;5;241m.\u001b[39mapply_str()\n\u001b[1;32m   1104\u001b[0m \u001b[38;5;66;03m# self.f is Callable\u001b[39;00m\n\u001b[0;32m-> 1105\u001b[0m \u001b[38;5;28;01mreturn\u001b[39;00m \u001b[38;5;28;43mself\u001b[39;49m\u001b[38;5;241;43m.\u001b[39;49m\u001b[43mapply_standard\u001b[49m\u001b[43m(\u001b[49m\u001b[43m)\u001b[49m\n",
      "File \u001b[0;32m/opt/conda/lib/python3.10/site-packages/pandas/core/apply.py:1156\u001b[0m, in \u001b[0;36mSeriesApply.apply_standard\u001b[0;34m(self)\u001b[0m\n\u001b[1;32m   1154\u001b[0m     \u001b[38;5;28;01melse\u001b[39;00m:\n\u001b[1;32m   1155\u001b[0m         values \u001b[38;5;241m=\u001b[39m obj\u001b[38;5;241m.\u001b[39mastype(\u001b[38;5;28mobject\u001b[39m)\u001b[38;5;241m.\u001b[39m_values\n\u001b[0;32m-> 1156\u001b[0m         mapped \u001b[38;5;241m=\u001b[39m \u001b[43mlib\u001b[49m\u001b[38;5;241;43m.\u001b[39;49m\u001b[43mmap_infer\u001b[49m\u001b[43m(\u001b[49m\n\u001b[1;32m   1157\u001b[0m \u001b[43m            \u001b[49m\u001b[43mvalues\u001b[49m\u001b[43m,\u001b[49m\n\u001b[1;32m   1158\u001b[0m \u001b[43m            \u001b[49m\u001b[43mf\u001b[49m\u001b[43m,\u001b[49m\n\u001b[1;32m   1159\u001b[0m \u001b[43m            \u001b[49m\u001b[43mconvert\u001b[49m\u001b[38;5;241;43m=\u001b[39;49m\u001b[38;5;28;43mself\u001b[39;49m\u001b[38;5;241;43m.\u001b[39;49m\u001b[43mconvert_dtype\u001b[49m\u001b[43m,\u001b[49m\n\u001b[1;32m   1160\u001b[0m \u001b[43m        \u001b[49m\u001b[43m)\u001b[49m\n\u001b[1;32m   1162\u001b[0m \u001b[38;5;28;01mif\u001b[39;00m \u001b[38;5;28mlen\u001b[39m(mapped) \u001b[38;5;129;01mand\u001b[39;00m \u001b[38;5;28misinstance\u001b[39m(mapped[\u001b[38;5;241m0\u001b[39m], ABCSeries):\n\u001b[1;32m   1163\u001b[0m     \u001b[38;5;66;03m# GH#43986 Need to do list(mapped) in order to get treated as nested\u001b[39;00m\n\u001b[1;32m   1164\u001b[0m     \u001b[38;5;66;03m#  See also GH#25959 regarding EA support\u001b[39;00m\n\u001b[1;32m   1165\u001b[0m     \u001b[38;5;28;01mreturn\u001b[39;00m obj\u001b[38;5;241m.\u001b[39m_constructor_expanddim(\u001b[38;5;28mlist\u001b[39m(mapped), index\u001b[38;5;241m=\u001b[39mobj\u001b[38;5;241m.\u001b[39mindex)\n",
      "File \u001b[0;32m/opt/conda/lib/python3.10/site-packages/pandas/_libs/lib.pyx:2918\u001b[0m, in \u001b[0;36mpandas._libs.lib.map_infer\u001b[0;34m()\u001b[0m\n",
      "Cell \u001b[0;32mIn[121], line 1\u001b[0m, in \u001b[0;36m<lambda>\u001b[0;34m(x)\u001b[0m\n\u001b[0;32m----> 1\u001b[0m cities[\u001b[38;5;124m'\u001b[39m\u001b[38;5;124mLAT\u001b[39m\u001b[38;5;124m'\u001b[39m] \u001b[38;5;241m=\u001b[39m cities[\u001b[38;5;124m'\u001b[39m\u001b[38;5;124mgeometry\u001b[39m\u001b[38;5;124m'\u001b[39m]\u001b[38;5;241m.\u001b[39mastype(\u001b[38;5;28mstr\u001b[39m)\u001b[38;5;241m.\u001b[39mapply(\u001b[38;5;28;01mlambda\u001b[39;00m x: \u001b[38;5;28mfloat\u001b[39m(\u001b[43mx\u001b[49m\u001b[38;5;241;43m.\u001b[39;49m\u001b[43mextract\u001b[49m(\u001b[38;5;124m'\u001b[39m\u001b[38;5;124m(\u001b[39m\u001b[38;5;124m\\\u001b[39m\u001b[38;5;124md+\u001b[39m\u001b[38;5;124m\\\u001b[39m\u001b[38;5;124m.\u001b[39m\u001b[38;5;124m\\\u001b[39m\u001b[38;5;124md+)\u001b[39m\u001b[38;5;124m'\u001b[39m)[\u001b[38;5;241m0\u001b[39m]))\n",
      "\u001b[0;31mAttributeError\u001b[0m: 'str' object has no attribute 'extract'"
     ]
    }
   ],
   "source": [
    "cities['LAT'] = cities['geometry'].astype(str).apply(lambda x: float(x.extract('(\\d+\\.\\d+)')[0]))"
   ]
  },
  {
   "cell_type": "code",
   "execution_count": 112,
   "id": "0e51bafd-4a71-4558-a2a6-4a67a6a1d8b9",
   "metadata": {},
   "outputs": [
    {
     "data": {
      "text/plain": [
       "0    POINT\n",
       "1    POINT\n",
       "2    POINT\n",
       "3    POINT\n",
       "4    POINT\n",
       "5    POINT\n",
       "6    POINT\n",
       "7    POINT\n",
       "Name: LAT, dtype: object"
      ]
     },
     "execution_count": 112,
     "metadata": {},
     "output_type": "execute_result"
    }
   ],
   "source": [
    "cities['LAT']"
   ]
  },
  {
   "cell_type": "code",
   "execution_count": 122,
   "id": "8dc9df3f-025b-45b5-b5c7-e3b352d5344d",
   "metadata": {},
   "outputs": [],
   "source": [
    "cities['LAT'] = cities['geometry'].apply(lambda x: x.y)"
   ]
  },
  {
   "cell_type": "code",
   "execution_count": 123,
   "id": "bd91433d-ccff-45a8-85f4-42ccde6dc1d4",
   "metadata": {},
   "outputs": [],
   "source": [
    "cities['LONG'] = cities['geometry'].apply(lambda x: x.x)"
   ]
  },
  {
   "cell_type": "code",
   "execution_count": 124,
   "id": "c63d7ebb-0a39-471f-ae96-c179050c0e32",
   "metadata": {},
   "outputs": [
    {
     "ename": "NameError",
     "evalue": "name 'head' is not defined",
     "output_type": "error",
     "traceback": [
      "\u001b[0;31m---------------------------------------------------------------------------\u001b[0m",
      "\u001b[0;31mNameError\u001b[0m                                 Traceback (most recent call last)",
      "Cell \u001b[0;32mIn[124], line 1\u001b[0m\n\u001b[0;32m----> 1\u001b[0m cities(\u001b[43mhead\u001b[49m)\n",
      "\u001b[0;31mNameError\u001b[0m: name 'head' is not defined"
     ]
    }
   ],
   "source": [
    "cities(head)"
   ]
  },
  {
   "cell_type": "code",
   "execution_count": 125,
   "id": "57bfaef6-01c7-409b-a34a-88572e72c48a",
   "metadata": {},
   "outputs": [
    {
     "data": {
      "text/html": [
       "<div>\n",
       "<style scoped>\n",
       "    .dataframe tbody tr th:only-of-type {\n",
       "        vertical-align: middle;\n",
       "    }\n",
       "\n",
       "    .dataframe tbody tr th {\n",
       "        vertical-align: top;\n",
       "    }\n",
       "\n",
       "    .dataframe thead th {\n",
       "        text-align: right;\n",
       "    }\n",
       "</style>\n",
       "<table border=\"1\" class=\"dataframe\">\n",
       "  <thead>\n",
       "    <tr style=\"text-align: right;\">\n",
       "      <th></th>\n",
       "      <th>id</th>\n",
       "      <th>Cities</th>\n",
       "      <th>geometry</th>\n",
       "      <th>LAT</th>\n",
       "      <th>LONG</th>\n",
       "    </tr>\n",
       "  </thead>\n",
       "  <tbody>\n",
       "    <tr>\n",
       "      <th>0</th>\n",
       "      <td>1</td>\n",
       "      <td>Altena</td>\n",
       "      <td>POINT (7.67182 51.29844)</td>\n",
       "      <td>51.298437</td>\n",
       "      <td>7.671824</td>\n",
       "    </tr>\n",
       "    <tr>\n",
       "      <th>1</th>\n",
       "      <td>2</td>\n",
       "      <td>Melgaco</td>\n",
       "      <td>POINT (-8.25924 42.11300)</td>\n",
       "      <td>42.112999</td>\n",
       "      <td>-8.259239</td>\n",
       "    </tr>\n",
       "    <tr>\n",
       "      <th>2</th>\n",
       "      <td>3</td>\n",
       "      <td>Manresa</td>\n",
       "      <td>POINT (1.82896 41.72876)</td>\n",
       "      <td>41.728756</td>\n",
       "      <td>1.828959</td>\n",
       "    </tr>\n",
       "    <tr>\n",
       "      <th>3</th>\n",
       "      <td>4</td>\n",
       "      <td>Idrija</td>\n",
       "      <td>POINT (14.02711 46.00228)</td>\n",
       "      <td>46.002284</td>\n",
       "      <td>14.027111</td>\n",
       "    </tr>\n",
       "    <tr>\n",
       "      <th>4</th>\n",
       "      <td>5</td>\n",
       "      <td>Aluksne</td>\n",
       "      <td>POINT (27.05022 57.42053)</td>\n",
       "      <td>57.420530</td>\n",
       "      <td>27.050224</td>\n",
       "    </tr>\n",
       "  </tbody>\n",
       "</table>\n",
       "</div>"
      ],
      "text/plain": [
       "   id   Cities                   geometry        LAT       LONG\n",
       "0   1   Altena   POINT (7.67182 51.29844)  51.298437   7.671824\n",
       "1   2  Melgaco  POINT (-8.25924 42.11300)  42.112999  -8.259239\n",
       "2   3  Manresa   POINT (1.82896 41.72876)  41.728756   1.828959\n",
       "3   4   Idrija  POINT (14.02711 46.00228)  46.002284  14.027111\n",
       "4   5  Aluksne  POINT (27.05022 57.42053)  57.420530  27.050224"
      ]
     },
     "execution_count": 125,
     "metadata": {},
     "output_type": "execute_result"
    }
   ],
   "source": [
    "cities.head()"
   ]
  },
  {
   "cell_type": "code",
   "execution_count": 126,
   "id": "7f4689f8-4bf8-4f98-84d6-d237b474ecbc",
   "metadata": {},
   "outputs": [
    {
     "name": "stdout",
     "output_type": "stream",
     "text": [
      "Altena 51.29843707535939 7.671823847810156\n",
      "Melgaco 42.11299890731406 -8.259239330935474\n",
      "Manresa 41.728756289847404 1.8289585499973406\n",
      "Idrija 46.002283816276766 14.027111067364231\n",
      "Aluksne 57.42052974378081 27.050224134114156\n",
      "Nyirbator 47.839447655551595 22.13107807897624\n",
      "Isernia 41.60007284428459 14.23824016791077\n",
      "Igoumenitsa 39.50442984022387 20.26448597996787\n"
     ]
    }
   ],
   "source": [
    "for index, row in cities.iterrows():\n",
    "    print(row.Cities, row.LAT, row.LONG)"
   ]
  },
  {
   "cell_type": "code",
   "execution_count": 127,
   "id": "07b151c7-f79d-4fc4-a4c7-b65a2303bbee",
   "metadata": {},
   "outputs": [
    {
     "ename": "SyntaxError",
     "evalue": "incomplete input (3911305588.py, line 1)",
     "output_type": "error",
     "traceback": [
      "\u001b[0;36m  Cell \u001b[0;32mIn[127], line 1\u001b[0;36m\u001b[0m\n\u001b[0;31m    for index, row in cities():\u001b[0m\n\u001b[0m                               ^\u001b[0m\n\u001b[0;31mSyntaxError\u001b[0m\u001b[0;31m:\u001b[0m incomplete input\n"
     ]
    }
   ],
   "source": [
    "for index, row in cities():"
   ]
  },
  {
   "cell_type": "code",
   "execution_count": 130,
   "id": "6b139938-58ba-4979-ac9f-84e174b1824a",
   "metadata": {},
   "outputs": [
    {
     "data": {
      "text/html": [
       "<div style=\"width:100%;\"><div style=\"position:relative;width:100%;height:0;padding-bottom:60%;\"><span style=\"color:#565656\">Make this Notebook Trusted to load map: File -> Trust Notebook</span><iframe srcdoc=\"&lt;!DOCTYPE html&gt;\n",
       "&lt;html&gt;\n",
       "&lt;head&gt;\n",
       "    \n",
       "    &lt;meta http-equiv=&quot;content-type&quot; content=&quot;text/html; charset=UTF-8&quot; /&gt;\n",
       "    \n",
       "        &lt;script&gt;\n",
       "            L_NO_TOUCH = false;\n",
       "            L_DISABLE_3D = false;\n",
       "        &lt;/script&gt;\n",
       "    \n",
       "    &lt;style&gt;html, body {width: 100%;height: 100%;margin: 0;padding: 0;}&lt;/style&gt;\n",
       "    &lt;style&gt;#map {position:absolute;top:0;bottom:0;right:0;left:0;}&lt;/style&gt;\n",
       "    &lt;script src=&quot;https://cdn.jsdelivr.net/npm/leaflet@1.9.3/dist/leaflet.js&quot;&gt;&lt;/script&gt;\n",
       "    &lt;script src=&quot;https://code.jquery.com/jquery-1.12.4.min.js&quot;&gt;&lt;/script&gt;\n",
       "    &lt;script src=&quot;https://cdn.jsdelivr.net/npm/bootstrap@5.2.2/dist/js/bootstrap.bundle.min.js&quot;&gt;&lt;/script&gt;\n",
       "    &lt;script src=&quot;https://cdnjs.cloudflare.com/ajax/libs/Leaflet.awesome-markers/2.0.2/leaflet.awesome-markers.js&quot;&gt;&lt;/script&gt;\n",
       "    &lt;link rel=&quot;stylesheet&quot; href=&quot;https://cdn.jsdelivr.net/npm/leaflet@1.9.3/dist/leaflet.css&quot;/&gt;\n",
       "    &lt;link rel=&quot;stylesheet&quot; href=&quot;https://cdn.jsdelivr.net/npm/bootstrap@5.2.2/dist/css/bootstrap.min.css&quot;/&gt;\n",
       "    &lt;link rel=&quot;stylesheet&quot; href=&quot;https://netdna.bootstrapcdn.com/bootstrap/3.0.0/css/bootstrap.min.css&quot;/&gt;\n",
       "    &lt;link rel=&quot;stylesheet&quot; href=&quot;https://cdn.jsdelivr.net/npm/@fortawesome/fontawesome-free@6.2.0/css/all.min.css&quot;/&gt;\n",
       "    &lt;link rel=&quot;stylesheet&quot; href=&quot;https://cdnjs.cloudflare.com/ajax/libs/Leaflet.awesome-markers/2.0.2/leaflet.awesome-markers.css&quot;/&gt;\n",
       "    &lt;link rel=&quot;stylesheet&quot; href=&quot;https://cdn.jsdelivr.net/gh/python-visualization/folium/folium/templates/leaflet.awesome.rotate.min.css&quot;/&gt;\n",
       "    \n",
       "            &lt;meta name=&quot;viewport&quot; content=&quot;width=device-width,\n",
       "                initial-scale=1.0, maximum-scale=1.0, user-scalable=no&quot; /&gt;\n",
       "            &lt;style&gt;\n",
       "                #map_b0b9838114231f0d8aab5d55541de80e {\n",
       "                    position: relative;\n",
       "                    width: 100.0%;\n",
       "                    height: 100.0%;\n",
       "                    left: 0.0%;\n",
       "                    top: 0.0%;\n",
       "                }\n",
       "                .leaflet-container { font-size: 1rem; }\n",
       "            &lt;/style&gt;\n",
       "        \n",
       "&lt;/head&gt;\n",
       "&lt;body&gt;\n",
       "    \n",
       "    \n",
       "            &lt;div class=&quot;folium-map&quot; id=&quot;map_b0b9838114231f0d8aab5d55541de80e&quot; &gt;&lt;/div&gt;\n",
       "        \n",
       "&lt;/body&gt;\n",
       "&lt;script&gt;\n",
       "    \n",
       "    \n",
       "            var map_b0b9838114231f0d8aab5d55541de80e = L.map(\n",
       "                &quot;map_b0b9838114231f0d8aab5d55541de80e&quot;,\n",
       "                {\n",
       "                    center: [0, 0],\n",
       "                    crs: L.CRS.EPSG3857,\n",
       "                    zoom: 1,\n",
       "                    zoomControl: true,\n",
       "                    preferCanvas: false,\n",
       "                }\n",
       "            );\n",
       "\n",
       "            \n",
       "\n",
       "        \n",
       "    \n",
       "            var tile_layer_6981df318d16243aae444ed6409aa7f5 = L.tileLayer(\n",
       "                &quot;https://{s}.tile.openstreetmap.org/{z}/{x}/{y}.png&quot;,\n",
       "                {&quot;attribution&quot;: &quot;Data by \\u0026copy; \\u003ca target=\\&quot;_blank\\&quot; href=\\&quot;http://openstreetmap.org\\&quot;\\u003eOpenStreetMap\\u003c/a\\u003e, under \\u003ca target=\\&quot;_blank\\&quot; href=\\&quot;http://www.openstreetmap.org/copyright\\&quot;\\u003eODbL\\u003c/a\\u003e.&quot;, &quot;detectRetina&quot;: false, &quot;maxNativeZoom&quot;: 18, &quot;maxZoom&quot;: 18, &quot;minZoom&quot;: 0, &quot;noWrap&quot;: false, &quot;opacity&quot;: 1, &quot;subdomains&quot;: &quot;abc&quot;, &quot;tms&quot;: false}\n",
       "            ).addTo(map_b0b9838114231f0d8aab5d55541de80e);\n",
       "        \n",
       "    \n",
       "            var marker_c8d08b7b0c21932422e264b5aac2f536 = L.marker(\n",
       "                [51.29843707535939, 7.671823847810156],\n",
       "                {}\n",
       "            ).addTo(map_b0b9838114231f0d8aab5d55541de80e);\n",
       "        \n",
       "    \n",
       "        var popup_64e55dd6658b065f704d61d50448f811 = L.popup({&quot;maxWidth&quot;: &quot;100%&quot;});\n",
       "\n",
       "        \n",
       "            \n",
       "                var html_fc8ff52bfa65ccad82a69dbd4da0873b = $(`&lt;div id=&quot;html_fc8ff52bfa65ccad82a69dbd4da0873b&quot; style=&quot;width: 100.0%; height: 100.0%;&quot;&gt;Altena&lt;/div&gt;`)[0];\n",
       "                popup_64e55dd6658b065f704d61d50448f811.setContent(html_fc8ff52bfa65ccad82a69dbd4da0873b);\n",
       "            \n",
       "        \n",
       "\n",
       "        marker_c8d08b7b0c21932422e264b5aac2f536.bindPopup(popup_64e55dd6658b065f704d61d50448f811)\n",
       "        ;\n",
       "\n",
       "        \n",
       "    \n",
       "    \n",
       "            marker_c8d08b7b0c21932422e264b5aac2f536.bindTooltip(\n",
       "                `&lt;div&gt;\n",
       "                     Altena\n",
       "                 &lt;/div&gt;`,\n",
       "                {&quot;sticky&quot;: true}\n",
       "            );\n",
       "        \n",
       "    \n",
       "            var marker_c75b2e50c7d90842d0d246b100d2fe7f = L.marker(\n",
       "                [42.11299890731406, -8.259239330935474],\n",
       "                {}\n",
       "            ).addTo(map_b0b9838114231f0d8aab5d55541de80e);\n",
       "        \n",
       "    \n",
       "        var popup_ee2c35d989e16abcbf1dfeed89fe570d = L.popup({&quot;maxWidth&quot;: &quot;100%&quot;});\n",
       "\n",
       "        \n",
       "            \n",
       "                var html_1fd08ae0c4c1186ea6f5c5944aad63e4 = $(`&lt;div id=&quot;html_1fd08ae0c4c1186ea6f5c5944aad63e4&quot; style=&quot;width: 100.0%; height: 100.0%;&quot;&gt;Melgaco&lt;/div&gt;`)[0];\n",
       "                popup_ee2c35d989e16abcbf1dfeed89fe570d.setContent(html_1fd08ae0c4c1186ea6f5c5944aad63e4);\n",
       "            \n",
       "        \n",
       "\n",
       "        marker_c75b2e50c7d90842d0d246b100d2fe7f.bindPopup(popup_ee2c35d989e16abcbf1dfeed89fe570d)\n",
       "        ;\n",
       "\n",
       "        \n",
       "    \n",
       "    \n",
       "            marker_c75b2e50c7d90842d0d246b100d2fe7f.bindTooltip(\n",
       "                `&lt;div&gt;\n",
       "                     Melgaco\n",
       "                 &lt;/div&gt;`,\n",
       "                {&quot;sticky&quot;: true}\n",
       "            );\n",
       "        \n",
       "    \n",
       "            var marker_9aa7a1cdaf4d8a0f8b87ca22ededd383 = L.marker(\n",
       "                [41.728756289847404, 1.8289585499973406],\n",
       "                {}\n",
       "            ).addTo(map_b0b9838114231f0d8aab5d55541de80e);\n",
       "        \n",
       "    \n",
       "        var popup_c1dc20424eb647d7c3d1371f9aed2662 = L.popup({&quot;maxWidth&quot;: &quot;100%&quot;});\n",
       "\n",
       "        \n",
       "            \n",
       "                var html_78008f5904913a80ff9e894db69b454e = $(`&lt;div id=&quot;html_78008f5904913a80ff9e894db69b454e&quot; style=&quot;width: 100.0%; height: 100.0%;&quot;&gt;Manresa&lt;/div&gt;`)[0];\n",
       "                popup_c1dc20424eb647d7c3d1371f9aed2662.setContent(html_78008f5904913a80ff9e894db69b454e);\n",
       "            \n",
       "        \n",
       "\n",
       "        marker_9aa7a1cdaf4d8a0f8b87ca22ededd383.bindPopup(popup_c1dc20424eb647d7c3d1371f9aed2662)\n",
       "        ;\n",
       "\n",
       "        \n",
       "    \n",
       "    \n",
       "            marker_9aa7a1cdaf4d8a0f8b87ca22ededd383.bindTooltip(\n",
       "                `&lt;div&gt;\n",
       "                     Manresa\n",
       "                 &lt;/div&gt;`,\n",
       "                {&quot;sticky&quot;: true}\n",
       "            );\n",
       "        \n",
       "    \n",
       "            var marker_3ee17668162060af5df41391d4e9b449 = L.marker(\n",
       "                [46.002283816276766, 14.027111067364231],\n",
       "                {}\n",
       "            ).addTo(map_b0b9838114231f0d8aab5d55541de80e);\n",
       "        \n",
       "    \n",
       "        var popup_980a5160a13b5ea8758da03f7bcce460 = L.popup({&quot;maxWidth&quot;: &quot;100%&quot;});\n",
       "\n",
       "        \n",
       "            \n",
       "                var html_6fcb42f88a3a0b4e371ea0b626e037f7 = $(`&lt;div id=&quot;html_6fcb42f88a3a0b4e371ea0b626e037f7&quot; style=&quot;width: 100.0%; height: 100.0%;&quot;&gt;Idrija&lt;/div&gt;`)[0];\n",
       "                popup_980a5160a13b5ea8758da03f7bcce460.setContent(html_6fcb42f88a3a0b4e371ea0b626e037f7);\n",
       "            \n",
       "        \n",
       "\n",
       "        marker_3ee17668162060af5df41391d4e9b449.bindPopup(popup_980a5160a13b5ea8758da03f7bcce460)\n",
       "        ;\n",
       "\n",
       "        \n",
       "    \n",
       "    \n",
       "            marker_3ee17668162060af5df41391d4e9b449.bindTooltip(\n",
       "                `&lt;div&gt;\n",
       "                     Idrija\n",
       "                 &lt;/div&gt;`,\n",
       "                {&quot;sticky&quot;: true}\n",
       "            );\n",
       "        \n",
       "    \n",
       "            var marker_5f1804aa2788bbab9ff1e9fd931e3bed = L.marker(\n",
       "                [57.42052974378081, 27.050224134114156],\n",
       "                {}\n",
       "            ).addTo(map_b0b9838114231f0d8aab5d55541de80e);\n",
       "        \n",
       "    \n",
       "        var popup_0113a1bdc09931fe97c388ccda4283a3 = L.popup({&quot;maxWidth&quot;: &quot;100%&quot;});\n",
       "\n",
       "        \n",
       "            \n",
       "                var html_a3b27372f675bd38713b3f932f72a2d0 = $(`&lt;div id=&quot;html_a3b27372f675bd38713b3f932f72a2d0&quot; style=&quot;width: 100.0%; height: 100.0%;&quot;&gt;Aluksne&lt;/div&gt;`)[0];\n",
       "                popup_0113a1bdc09931fe97c388ccda4283a3.setContent(html_a3b27372f675bd38713b3f932f72a2d0);\n",
       "            \n",
       "        \n",
       "\n",
       "        marker_5f1804aa2788bbab9ff1e9fd931e3bed.bindPopup(popup_0113a1bdc09931fe97c388ccda4283a3)\n",
       "        ;\n",
       "\n",
       "        \n",
       "    \n",
       "    \n",
       "            marker_5f1804aa2788bbab9ff1e9fd931e3bed.bindTooltip(\n",
       "                `&lt;div&gt;\n",
       "                     Aluksne\n",
       "                 &lt;/div&gt;`,\n",
       "                {&quot;sticky&quot;: true}\n",
       "            );\n",
       "        \n",
       "    \n",
       "            var marker_57b834ab7933a1d81251f29d3f64dceb = L.marker(\n",
       "                [47.839447655551595, 22.13107807897624],\n",
       "                {}\n",
       "            ).addTo(map_b0b9838114231f0d8aab5d55541de80e);\n",
       "        \n",
       "    \n",
       "        var popup_c2f3b8daf29457040e9f939014deff89 = L.popup({&quot;maxWidth&quot;: &quot;100%&quot;});\n",
       "\n",
       "        \n",
       "            \n",
       "                var html_1fd652de23bb86d9fbc9ea7d236d1c50 = $(`&lt;div id=&quot;html_1fd652de23bb86d9fbc9ea7d236d1c50&quot; style=&quot;width: 100.0%; height: 100.0%;&quot;&gt;Nyirbator&lt;/div&gt;`)[0];\n",
       "                popup_c2f3b8daf29457040e9f939014deff89.setContent(html_1fd652de23bb86d9fbc9ea7d236d1c50);\n",
       "            \n",
       "        \n",
       "\n",
       "        marker_57b834ab7933a1d81251f29d3f64dceb.bindPopup(popup_c2f3b8daf29457040e9f939014deff89)\n",
       "        ;\n",
       "\n",
       "        \n",
       "    \n",
       "    \n",
       "            marker_57b834ab7933a1d81251f29d3f64dceb.bindTooltip(\n",
       "                `&lt;div&gt;\n",
       "                     Nyirbator\n",
       "                 &lt;/div&gt;`,\n",
       "                {&quot;sticky&quot;: true}\n",
       "            );\n",
       "        \n",
       "    \n",
       "            var marker_3f1674e6b904d35ba20c594a26af2b67 = L.marker(\n",
       "                [41.60007284428459, 14.23824016791077],\n",
       "                {}\n",
       "            ).addTo(map_b0b9838114231f0d8aab5d55541de80e);\n",
       "        \n",
       "    \n",
       "        var popup_fe32c4071e4c531b292459c753de43db = L.popup({&quot;maxWidth&quot;: &quot;100%&quot;});\n",
       "\n",
       "        \n",
       "            \n",
       "                var html_34a5fd09a6d5093044073762a14d57cf = $(`&lt;div id=&quot;html_34a5fd09a6d5093044073762a14d57cf&quot; style=&quot;width: 100.0%; height: 100.0%;&quot;&gt;Isernia&lt;/div&gt;`)[0];\n",
       "                popup_fe32c4071e4c531b292459c753de43db.setContent(html_34a5fd09a6d5093044073762a14d57cf);\n",
       "            \n",
       "        \n",
       "\n",
       "        marker_3f1674e6b904d35ba20c594a26af2b67.bindPopup(popup_fe32c4071e4c531b292459c753de43db)\n",
       "        ;\n",
       "\n",
       "        \n",
       "    \n",
       "    \n",
       "            marker_3f1674e6b904d35ba20c594a26af2b67.bindTooltip(\n",
       "                `&lt;div&gt;\n",
       "                     Isernia\n",
       "                 &lt;/div&gt;`,\n",
       "                {&quot;sticky&quot;: true}\n",
       "            );\n",
       "        \n",
       "    \n",
       "            var marker_debf00b475ed173bbcf93538f8f566d7 = L.marker(\n",
       "                [39.50442984022387, 20.26448597996787],\n",
       "                {}\n",
       "            ).addTo(map_b0b9838114231f0d8aab5d55541de80e);\n",
       "        \n",
       "    \n",
       "        var popup_708e650a6dd019d770332c0fd728cd6b = L.popup({&quot;maxWidth&quot;: &quot;100%&quot;});\n",
       "\n",
       "        \n",
       "            \n",
       "                var html_975273c45b1ad9ed405cd25a6fb600b2 = $(`&lt;div id=&quot;html_975273c45b1ad9ed405cd25a6fb600b2&quot; style=&quot;width: 100.0%; height: 100.0%;&quot;&gt;Igoumenitsa&lt;/div&gt;`)[0];\n",
       "                popup_708e650a6dd019d770332c0fd728cd6b.setContent(html_975273c45b1ad9ed405cd25a6fb600b2);\n",
       "            \n",
       "        \n",
       "\n",
       "        marker_debf00b475ed173bbcf93538f8f566d7.bindPopup(popup_708e650a6dd019d770332c0fd728cd6b)\n",
       "        ;\n",
       "\n",
       "        \n",
       "    \n",
       "    \n",
       "            marker_debf00b475ed173bbcf93538f8f566d7.bindTooltip(\n",
       "                `&lt;div&gt;\n",
       "                     Igoumenitsa\n",
       "                 &lt;/div&gt;`,\n",
       "                {&quot;sticky&quot;: true}\n",
       "            );\n",
       "        \n",
       "&lt;/script&gt;\n",
       "&lt;/html&gt;\" style=\"position:absolute;width:100%;height:100%;left:0;top:0;border:none !important;\" allowfullscreen webkitallowfullscreen mozallowfullscreen></iframe></div></div>"
      ],
      "text/plain": [
       "<folium.folium.Map at 0x7f9ef1435630>"
      ]
     },
     "execution_count": 130,
     "metadata": {},
     "output_type": "execute_result"
    }
   ],
   "source": [
    "for index, row in cities.iterrows():\n",
    "    folium.Marker([row.LAT, row.LONG], popup = row.Cities, tooltip = row.Cities).add_to(m)\n",
    "m"
   ]
  },
  {
   "cell_type": "code",
   "execution_count": 131,
   "id": "cc59a1e8-340f-4258-96a0-ec221cd0411c",
   "metadata": {},
   "outputs": [],
   "source": [
    "m.save('cities_map.html')"
   ]
  },
  {
   "cell_type": "code",
   "execution_count": null,
   "id": "ab195a90-fd67-4d47-b7bd-39f970e02ad2",
   "metadata": {},
   "outputs": [],
   "source": []
  }
 ],
 "metadata": {
  "kernelspec": {
   "display_name": "Python 3 (ipykernel)",
   "language": "python",
   "name": "python3"
  },
  "language_info": {
   "codemirror_mode": {
    "name": "ipython",
    "version": 3
   },
   "file_extension": ".py",
   "mimetype": "text/x-python",
   "name": "python",
   "nbconvert_exporter": "python",
   "pygments_lexer": "ipython3",
   "version": "3.10.8"
  }
 },
 "nbformat": 4,
 "nbformat_minor": 5
}
